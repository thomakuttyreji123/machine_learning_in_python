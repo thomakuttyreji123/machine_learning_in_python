{
 "cells": [
  {
   "cell_type": "markdown",
   "metadata": {},
   "source": [
    "# <font color = 'darkblue' > Importing libraries "
   ]
  },
  {
   "cell_type": "code",
   "execution_count": 2,
   "metadata": {},
   "outputs": [],
   "source": [
    "import pandas as pd\n",
    "import numpy as np\n",
    "import matplotlib.pyplot as plt\n",
    "import seaborn as sns\n",
    "from sklearn.model_selection import train_test_split\n",
    "\n",
    "import warnings\n",
    "warnings.filterwarnings('ignore')"
   ]
  },
  {
   "cell_type": "markdown",
   "metadata": {},
   "source": [
    "#  <font color = 'darkblue' > Data set Description \n",
    "This dataset consists of 14 features The target field refers to the presence of heart disease in the patient. \n",
    "\n",
    "1. age\n",
    "2. sex\n",
    "3. chest pain type (4 values)\n",
    "4. resting blood pressure\n",
    "5. serum cholestoral in mg/dl\n",
    "6. fasting blood sugar > 120 mg/dl\n",
    "7. resting electrocardiographic results (values 0,1,2)\n",
    "8. maximum heart rate achieved\n",
    "9. exercise induced angina\n",
    "10. oldpeak = ST depression induced by exercise relative to rest\n",
    "11. the slope of the peak exercise ST segment\n",
    "12. number of major vessels (0-3) colored by flourosopy\n",
    "13. thal: 3 = normal; 6 = fixed defect; 7 = reversable defect\n"
   ]
  },
  {
   "cell_type": "code",
   "execution_count": 3,
   "metadata": {},
   "outputs": [],
   "source": [
    "data = pd.read_csv('heart.csv')"
   ]
  },
  {
   "cell_type": "code",
   "execution_count": 3,
   "metadata": {},
   "outputs": [],
   "source": [
    "train_heart,test_heart = train_test_split(data, test_size =0.3, random_state = 35)\n",
    "test_heart.dropna(inplace = True)\n",
    "test_heart.to_csv('heart_test',index = False)"
   ]
  },
  {
   "cell_type": "code",
   "execution_count": 4,
   "metadata": {},
   "outputs": [],
   "source": [
    "df = train_heart\n"
   ]
  },
  {
   "cell_type": "code",
   "execution_count": 5,
   "metadata": {},
   "outputs": [
    {
     "data": {
      "text/html": [
       "<div>\n",
       "<style scoped>\n",
       "    .dataframe tbody tr th:only-of-type {\n",
       "        vertical-align: middle;\n",
       "    }\n",
       "\n",
       "    .dataframe tbody tr th {\n",
       "        vertical-align: top;\n",
       "    }\n",
       "\n",
       "    .dataframe thead th {\n",
       "        text-align: right;\n",
       "    }\n",
       "</style>\n",
       "<table border=\"1\" class=\"dataframe\">\n",
       "  <thead>\n",
       "    <tr style=\"text-align: right;\">\n",
       "      <th></th>\n",
       "      <th>age</th>\n",
       "      <th>sex</th>\n",
       "      <th>cp</th>\n",
       "      <th>trestbps</th>\n",
       "      <th>chol</th>\n",
       "      <th>fbs</th>\n",
       "      <th>restecg</th>\n",
       "      <th>thalach</th>\n",
       "      <th>exang</th>\n",
       "      <th>oldpeak</th>\n",
       "      <th>slope</th>\n",
       "      <th>ca</th>\n",
       "      <th>thal</th>\n",
       "      <th>target</th>\n",
       "    </tr>\n",
       "  </thead>\n",
       "  <tbody>\n",
       "    <tr>\n",
       "      <th>14</th>\n",
       "      <td>58</td>\n",
       "      <td>0</td>\n",
       "      <td>3</td>\n",
       "      <td>150</td>\n",
       "      <td>283</td>\n",
       "      <td>1</td>\n",
       "      <td>0</td>\n",
       "      <td>162</td>\n",
       "      <td>0</td>\n",
       "      <td>1.0</td>\n",
       "      <td>2</td>\n",
       "      <td>0</td>\n",
       "      <td>2</td>\n",
       "      <td>1</td>\n",
       "    </tr>\n",
       "    <tr>\n",
       "      <th>12</th>\n",
       "      <td>49</td>\n",
       "      <td>1</td>\n",
       "      <td>1</td>\n",
       "      <td>130</td>\n",
       "      <td>266</td>\n",
       "      <td>0</td>\n",
       "      <td>1</td>\n",
       "      <td>171</td>\n",
       "      <td>0</td>\n",
       "      <td>0.6</td>\n",
       "      <td>2</td>\n",
       "      <td>0</td>\n",
       "      <td>2</td>\n",
       "      <td>1</td>\n",
       "    </tr>\n",
       "    <tr>\n",
       "      <th>197</th>\n",
       "      <td>67</td>\n",
       "      <td>1</td>\n",
       "      <td>0</td>\n",
       "      <td>125</td>\n",
       "      <td>254</td>\n",
       "      <td>1</td>\n",
       "      <td>1</td>\n",
       "      <td>163</td>\n",
       "      <td>0</td>\n",
       "      <td>0.2</td>\n",
       "      <td>1</td>\n",
       "      <td>2</td>\n",
       "      <td>3</td>\n",
       "      <td>0</td>\n",
       "    </tr>\n",
       "    <tr>\n",
       "      <th>169</th>\n",
       "      <td>53</td>\n",
       "      <td>1</td>\n",
       "      <td>0</td>\n",
       "      <td>140</td>\n",
       "      <td>203</td>\n",
       "      <td>1</td>\n",
       "      <td>0</td>\n",
       "      <td>155</td>\n",
       "      <td>1</td>\n",
       "      <td>3.1</td>\n",
       "      <td>0</td>\n",
       "      <td>0</td>\n",
       "      <td>3</td>\n",
       "      <td>0</td>\n",
       "    </tr>\n",
       "    <tr>\n",
       "      <th>84</th>\n",
       "      <td>42</td>\n",
       "      <td>0</td>\n",
       "      <td>0</td>\n",
       "      <td>102</td>\n",
       "      <td>265</td>\n",
       "      <td>0</td>\n",
       "      <td>0</td>\n",
       "      <td>122</td>\n",
       "      <td>0</td>\n",
       "      <td>0.6</td>\n",
       "      <td>1</td>\n",
       "      <td>0</td>\n",
       "      <td>2</td>\n",
       "      <td>1</td>\n",
       "    </tr>\n",
       "    <tr>\n",
       "      <th>...</th>\n",
       "      <td>...</td>\n",
       "      <td>...</td>\n",
       "      <td>...</td>\n",
       "      <td>...</td>\n",
       "      <td>...</td>\n",
       "      <td>...</td>\n",
       "      <td>...</td>\n",
       "      <td>...</td>\n",
       "      <td>...</td>\n",
       "      <td>...</td>\n",
       "      <td>...</td>\n",
       "      <td>...</td>\n",
       "      <td>...</td>\n",
       "      <td>...</td>\n",
       "    </tr>\n",
       "    <tr>\n",
       "      <th>232</th>\n",
       "      <td>55</td>\n",
       "      <td>1</td>\n",
       "      <td>0</td>\n",
       "      <td>160</td>\n",
       "      <td>289</td>\n",
       "      <td>0</td>\n",
       "      <td>0</td>\n",
       "      <td>145</td>\n",
       "      <td>1</td>\n",
       "      <td>0.8</td>\n",
       "      <td>1</td>\n",
       "      <td>1</td>\n",
       "      <td>3</td>\n",
       "      <td>0</td>\n",
       "    </tr>\n",
       "    <tr>\n",
       "      <th>249</th>\n",
       "      <td>69</td>\n",
       "      <td>1</td>\n",
       "      <td>2</td>\n",
       "      <td>140</td>\n",
       "      <td>254</td>\n",
       "      <td>0</td>\n",
       "      <td>0</td>\n",
       "      <td>146</td>\n",
       "      <td>0</td>\n",
       "      <td>2.0</td>\n",
       "      <td>1</td>\n",
       "      <td>3</td>\n",
       "      <td>3</td>\n",
       "      <td>0</td>\n",
       "    </tr>\n",
       "    <tr>\n",
       "      <th>33</th>\n",
       "      <td>54</td>\n",
       "      <td>1</td>\n",
       "      <td>2</td>\n",
       "      <td>125</td>\n",
       "      <td>273</td>\n",
       "      <td>0</td>\n",
       "      <td>0</td>\n",
       "      <td>152</td>\n",
       "      <td>0</td>\n",
       "      <td>0.5</td>\n",
       "      <td>0</td>\n",
       "      <td>1</td>\n",
       "      <td>2</td>\n",
       "      <td>1</td>\n",
       "    </tr>\n",
       "    <tr>\n",
       "      <th>271</th>\n",
       "      <td>61</td>\n",
       "      <td>1</td>\n",
       "      <td>3</td>\n",
       "      <td>134</td>\n",
       "      <td>234</td>\n",
       "      <td>0</td>\n",
       "      <td>1</td>\n",
       "      <td>145</td>\n",
       "      <td>0</td>\n",
       "      <td>2.6</td>\n",
       "      <td>1</td>\n",
       "      <td>2</td>\n",
       "      <td>2</td>\n",
       "      <td>0</td>\n",
       "    </tr>\n",
       "    <tr>\n",
       "      <th>201</th>\n",
       "      <td>60</td>\n",
       "      <td>1</td>\n",
       "      <td>0</td>\n",
       "      <td>125</td>\n",
       "      <td>258</td>\n",
       "      <td>0</td>\n",
       "      <td>0</td>\n",
       "      <td>141</td>\n",
       "      <td>1</td>\n",
       "      <td>2.8</td>\n",
       "      <td>1</td>\n",
       "      <td>1</td>\n",
       "      <td>3</td>\n",
       "      <td>0</td>\n",
       "    </tr>\n",
       "  </tbody>\n",
       "</table>\n",
       "<p>212 rows × 14 columns</p>\n",
       "</div>"
      ],
      "text/plain": [
       "     age  sex  cp  trestbps  chol  fbs  restecg  thalach  exang  oldpeak  \\\n",
       "14    58    0   3       150   283    1        0      162      0      1.0   \n",
       "12    49    1   1       130   266    0        1      171      0      0.6   \n",
       "197   67    1   0       125   254    1        1      163      0      0.2   \n",
       "169   53    1   0       140   203    1        0      155      1      3.1   \n",
       "84    42    0   0       102   265    0        0      122      0      0.6   \n",
       "..   ...  ...  ..       ...   ...  ...      ...      ...    ...      ...   \n",
       "232   55    1   0       160   289    0        0      145      1      0.8   \n",
       "249   69    1   2       140   254    0        0      146      0      2.0   \n",
       "33    54    1   2       125   273    0        0      152      0      0.5   \n",
       "271   61    1   3       134   234    0        1      145      0      2.6   \n",
       "201   60    1   0       125   258    0        0      141      1      2.8   \n",
       "\n",
       "     slope  ca  thal  target  \n",
       "14       2   0     2       1  \n",
       "12       2   0     2       1  \n",
       "197      1   2     3       0  \n",
       "169      0   0     3       0  \n",
       "84       1   0     2       1  \n",
       "..     ...  ..   ...     ...  \n",
       "232      1   1     3       0  \n",
       "249      1   3     3       0  \n",
       "33       0   1     2       1  \n",
       "271      1   2     2       0  \n",
       "201      1   1     3       0  \n",
       "\n",
       "[212 rows x 14 columns]"
      ]
     },
     "execution_count": 5,
     "metadata": {},
     "output_type": "execute_result"
    }
   ],
   "source": [
    "df  "
   ]
  },
  {
   "cell_type": "code",
   "execution_count": 6,
   "metadata": {},
   "outputs": [
    {
     "name": "stdout",
     "output_type": "stream",
     "text": [
      "(212, 14)\n",
      "(91, 14)\n"
     ]
    }
   ],
   "source": [
    "print(df.shape)# checking the shape of data\n",
    "print(test_heart.shape)"
   ]
  },
  {
   "cell_type": "code",
   "execution_count": 7,
   "metadata": {},
   "outputs": [
    {
     "data": {
      "text/plain": [
       "<matplotlib.axes._subplots.AxesSubplot at 0x246b49a7b20>"
      ]
     },
     "execution_count": 7,
     "metadata": {},
     "output_type": "execute_result"
    },
    {
     "data": {
      "image/png": "[encoded data removed]",
      "text/plain": [
       "<Figure size 432x288 with 1 Axes>"
      ]
     },
     "metadata": {
      "needs_background": "light"
     },
     "output_type": "display_data"
    }
   ],
   "source": [
    "sns.barplot(y = df['age'], x = df['target'])       # this implies that data set is balanced"
   ]
  },
  {
   "cell_type": "code",
   "execution_count": 8,
   "metadata": {},
   "outputs": [
    {
     "data": {
      "text/plain": [
       "<matplotlib.axes._subplots.AxesSubplot at 0x246ba0f67c0>"
      ]
     },
     "execution_count": 8,
     "metadata": {},
     "output_type": "execute_result"
    },
    {
     "data": {
      "image/png": "[encoded data removed]",
      "text/plain": [
       "<Figure size 432x288 with 1 Axes>"
      ]
     },
     "metadata": {
      "needs_background": "light"
     },
     "output_type": "display_data"
    }
   ],
   "source": [
    "sns.distplot(df.age,bins = 15)"
   ]
  },
  {
   "cell_type": "code",
   "execution_count": 9,
   "metadata": {},
   "outputs": [
    {
     "data": {
      "image/png": "[encoded data removed]",
      "text/plain": [
       "<Figure size 402.375x360 with 1 Axes>"
      ]
     },
     "metadata": {
      "needs_background": "light"
     },
     "output_type": "display_data"
    }
   ],
   "source": [
    "# barplot of age vs sex with hue = target\n",
    "sns.catplot(kind = 'bar', data = df, y = 'age', x = 'sex', hue = 'target')\n",
    "plt.title('Distribution of age vs sex with the target class')\n",
    "plt.show()"
   ]
  },
  {
   "cell_type": "code",
   "execution_count": 10,
   "metadata": {},
   "outputs": [
    {
     "data": {
      "text/plain": [
       "age           int64\n",
       "sex           int64\n",
       "cp            int64\n",
       "trestbps      int64\n",
       "chol          int64\n",
       "fbs           int64\n",
       "restecg       int64\n",
       "thalach       int64\n",
       "exang         int64\n",
       "oldpeak     float64\n",
       "slope         int64\n",
       "ca            int64\n",
       "thal          int64\n",
       "target        int64\n",
       "dtype: object"
      ]
     },
     "execution_count": 10,
     "metadata": {},
     "output_type": "execute_result"
    }
   ],
   "source": [
    "df.dtypes          # checking the type of data features "
   ]
  },
  {
   "cell_type": "code",
   "execution_count": 11,
   "metadata": {},
   "outputs": [
    {
     "data": {
      "text/plain": [
       "1    116\n",
       "0     96\n",
       "Name: target, dtype: int64"
      ]
     },
     "execution_count": 11,
     "metadata": {},
     "output_type": "execute_result"
    }
   ],
   "source": [
    "df['target'].value_counts()     # this is a balanced dataset "
   ]
  },
  {
   "cell_type": "code",
   "execution_count": 12,
   "metadata": {},
   "outputs": [
    {
     "data": {
      "text/plain": [
       "age         0\n",
       "sex         0\n",
       "cp          0\n",
       "trestbps    0\n",
       "chol        0\n",
       "fbs         0\n",
       "restecg     0\n",
       "thalach     0\n",
       "exang       0\n",
       "oldpeak     0\n",
       "slope       0\n",
       "ca          0\n",
       "thal        0\n",
       "target      0\n",
       "dtype: int64"
      ]
     },
     "execution_count": 12,
     "metadata": {},
     "output_type": "execute_result"
    }
   ],
   "source": [
    "# checking the null values \n",
    "df.isna().sum()             # train data set does not contain nulls "
   ]
  },
  {
   "cell_type": "code",
   "execution_count": 13,
   "metadata": {},
   "outputs": [
    {
     "data": {
      "text/plain": [
       "<matplotlib.axes._subplots.AxesSubplot at 0x246ba1c69d0>"
      ]
     },
     "execution_count": 13,
     "metadata": {},
     "output_type": "execute_result"
    },
    {
     "data": {
      "image/png": "[encoded data removed]",
      "text/plain": [
       "<Figure size 1440x1080 with 2 Axes>"
      ]
     },
     "metadata": {
      "needs_background": "light"
     },
     "output_type": "display_data"
    }
   ],
   "source": [
    "# correlation analysis \n",
    "import seaborn as sns\n",
    "import matplotlib.pyplot as plt\n",
    "plt.figure(figsize = (20,15))\n",
    "\n",
    "\n",
    "sns.heatmap(data.corr(), annot=True)"
   ]
  },
  {
   "cell_type": "code",
   "execution_count": 14,
   "metadata": {},
   "outputs": [],
   "source": [
    "# cp, thalach, slope are highly correlated with target variable (positive correlatoin)\n",
    "# exang, oldpeak, ca,thal are negatively correlated with target variable "
   ]
  },
  {
   "cell_type": "markdown",
   "metadata": {},
   "source": [
    "### Analysing variable "
   ]
  },
  {
   "cell_type": "code",
   "execution_count": 15,
   "metadata": {},
   "outputs": [
    {
     "data": {
      "text/plain": [
       "<matplotlib.axes._subplots.AxesSubplot at 0x246baafe3d0>"
      ]
     },
     "execution_count": 15,
     "metadata": {},
     "output_type": "execute_result"
    },
    {
     "data": {
      "image/png": "[encoded data removed]",
      "text/plain": [
       "<Figure size 432x288 with 1 Axes>"
      ]
     },
     "metadata": {
      "needs_background": "light"
     },
     "output_type": "display_data"
    }
   ],
   "source": [
    "sns.barplot(df.target)   "
   ]
  },
  {
   "cell_type": "code",
   "execution_count": null,
   "metadata": {},
   "outputs": [],
   "source": []
  },
  {
   "cell_type": "code",
   "execution_count": 16,
   "metadata": {},
   "outputs": [
    {
     "name": "stdout",
     "output_type": "stream",
     "text": [
      "AxesSubplot(0.125,0.125;0.775x0.755)\n"
     ]
    },
    {
     "data": {
      "image/png": "[encoded data removed]",
      "text/plain": [
       "<Figure size 432x288 with 1 Axes>"
      ]
     },
     "metadata": {
      "needs_background": "light"
     },
     "output_type": "display_data"
    }
   ],
   "source": [
    "# analysing highly correlated variables \n",
    "print(sns.boxplot(df['cp']))          # cp "
   ]
  },
  {
   "cell_type": "code",
   "execution_count": 17,
   "metadata": {},
   "outputs": [
    {
     "data": {
      "image/png": "[encoded data removed]",
      "text/plain": [
       "<Figure size 432x288 with 1 Axes>"
      ]
     },
     "metadata": {
      "needs_background": "light"
     },
     "output_type": "display_data"
    }
   ],
   "source": [
    "sns.kdeplot(df['cp'],shade = True) \n",
    "plt.xlabel('cp')\n",
    "plt.show()# distribution of cp feature   \n",
    "# showing the probability density functio"
   ]
  },
  {
   "cell_type": "markdown",
   "metadata": {},
   "source": [
    "### Categorical conversion "
   ]
  },
  {
   "cell_type": "code",
   "execution_count": 18,
   "metadata": {},
   "outputs": [],
   "source": [
    "\n",
    "categories = {0: 'No Heart Pain',1: 'Little Heart Pain',2: 'Heart Pain', 3: 'HighPain'}\n",
    "df['cp'] = df['cp'].astype('category')\n",
    "df['cp'] = df['cp'].cat.rename_categories(categories)\n",
    "\n",
    "\n",
    "sex = {1: 'Male',0: 'Female'}\n",
    "df['sex'] = df['sex'].astype('category')\n",
    "df['sex'] = df['sex'].cat.rename_categories(sex)\n",
    "\n",
    "\n",
    "bloodSugar = {1:'greaterthan or 120',0:'fbs lessthan 120'}\n",
    "df['fbs'] = df['fbs'].astype('category')\n",
    "df['fbs'] = df['fbs'].cat.rename_categories(bloodSugar)\n",
    "\n",
    "\n",
    "recg = {0: 'recg 0',1:'recg 1',2:'recg 2'}\n",
    "df['restecg'] = df['restecg'].astype('category')\n",
    "df['restecg'] = df['restecg'].cat.rename_categories(recg)\n",
    "\n",
    "\n",
    "\n",
    "exang = {1:'exang Yes',0:'No'}\n",
    "df['exang'] = df['exang'].astype('category')\n",
    "df['exang'] = df['exang'].cat.rename_categories(exang)\n",
    "\n",
    "\n",
    "ca = {0:'ca 0', 1: 'ca 1', 2: 'ca 2', 3: 'ca 3',4:'ca 4'}\n",
    "df['ca'] = df['ca'].astype('category')\n",
    "df['ca'] = df['ca'].cat.rename_categories(ca)\n",
    "\n",
    "\n",
    "thal = {0:'thal 0', 1: 'thal 1',2:'thal 2',3: 'thal 3'}\n",
    "df['thal'] = df['thal'].astype('category')\n",
    "df['thal'] = df['thal'].cat.rename_categories(thal)\n",
    "\n",
    "slope = {0: 'slope ST 0', 1: 'slope ST 1', 2: 'slope ST 2'}\n",
    "df['slope'] = df['slope'].astype('category')\n",
    "df['slope'] = df['slope'].cat.rename_categories(slope)\n"
   ]
  },
  {
   "cell_type": "markdown",
   "metadata": {},
   "source": [
    "### Getting dummies and joining"
   ]
  },
  {
   "cell_type": "code",
   "execution_count": 19,
   "metadata": {},
   "outputs": [],
   "source": [
    "sex_dummy = pd.get_dummies(df.sex)\n",
    "merged0 = pd.concat([df,sex_dummy],axis = 'columns')\n",
    "merged0.drop(['sex', 'Female'],axis = 1,inplace = True)\n",
    "\n",
    "fbs_dummy = pd.get_dummies(df.fbs)\n",
    "merged1 = pd.concat([merged0,fbs_dummy],axis = 'columns')\n",
    "merged1.drop(['fbs', 'greaterthan or 120'],axis = 1,inplace = True)\n",
    "\n",
    "exang_dummy = pd.get_dummies(df.exang)\n",
    "merged2 = pd.concat([merged1,exang_dummy],axis = 'columns')\n",
    "merged2.drop(['exang', 'No'],axis = 1,inplace = True)\n",
    "\n",
    "cp_dummy = pd.get_dummies(df.cp)\n",
    "merged3 = pd.concat([merged2,cp_dummy],axis = 'columns')\n",
    "merged3.drop(['cp', 'HighPain'],axis = 1,inplace = True)\n",
    "\n",
    "restecg_dummy = pd.get_dummies(df.restecg)\n",
    "merged4 = pd.concat([merged3,restecg_dummy], axis = 'columns')\n",
    "merged4.drop(['restecg', 'recg 0'], axis = 1,inplace = True )\n",
    "\n",
    "ca_dummy = pd.get_dummies(df.ca)\n",
    "merged5 = pd.concat([merged4,ca_dummy], axis = 'columns')\n",
    "merged5.drop(['ca', 'ca 0'], axis = 1,inplace = True )\n",
    "\n",
    "thal_dummy = pd.get_dummies(df.thal)\n",
    "merged6 = pd.concat([merged5,thal_dummy], axis = 'columns')\n",
    "merged6.drop(['thal', 'thal 1'], axis = 1,inplace = True )\n",
    "\n",
    "slope_dummy = pd.get_dummies(df.slope)\n",
    "merged7 = pd.concat([merged6,slope_dummy], axis = 'columns')\n",
    "merged7.drop(['slope', 'slope ST 0'], axis = 1,inplace = True )"
   ]
  },
  {
   "cell_type": "code",
   "execution_count": 20,
   "metadata": {},
   "outputs": [
    {
     "data": {
      "text/html": [
       "<div>\n",
       "<style scoped>\n",
       "    .dataframe tbody tr th:only-of-type {\n",
       "        vertical-align: middle;\n",
       "    }\n",
       "\n",
       "    .dataframe tbody tr th {\n",
       "        vertical-align: top;\n",
       "    }\n",
       "\n",
       "    .dataframe thead th {\n",
       "        text-align: right;\n",
       "    }\n",
       "</style>\n",
       "<table border=\"1\" class=\"dataframe\">\n",
       "  <thead>\n",
       "    <tr style=\"text-align: right;\">\n",
       "      <th></th>\n",
       "      <th>age</th>\n",
       "      <th>trestbps</th>\n",
       "      <th>chol</th>\n",
       "      <th>thalach</th>\n",
       "      <th>oldpeak</th>\n",
       "      <th>target</th>\n",
       "      <th>Male</th>\n",
       "      <th>fbs lessthan 120</th>\n",
       "      <th>exang Yes</th>\n",
       "      <th>No Heart Pain</th>\n",
       "      <th>...</th>\n",
       "      <th>recg 2</th>\n",
       "      <th>ca 1</th>\n",
       "      <th>ca 2</th>\n",
       "      <th>ca 3</th>\n",
       "      <th>ca 4</th>\n",
       "      <th>thal 0</th>\n",
       "      <th>thal 2</th>\n",
       "      <th>thal 3</th>\n",
       "      <th>slope ST 1</th>\n",
       "      <th>slope ST 2</th>\n",
       "    </tr>\n",
       "  </thead>\n",
       "  <tbody>\n",
       "    <tr>\n",
       "      <th>14</th>\n",
       "      <td>58</td>\n",
       "      <td>150</td>\n",
       "      <td>283</td>\n",
       "      <td>162</td>\n",
       "      <td>1.0</td>\n",
       "      <td>1</td>\n",
       "      <td>0</td>\n",
       "      <td>0</td>\n",
       "      <td>0</td>\n",
       "      <td>0</td>\n",
       "      <td>...</td>\n",
       "      <td>0</td>\n",
       "      <td>0</td>\n",
       "      <td>0</td>\n",
       "      <td>0</td>\n",
       "      <td>0</td>\n",
       "      <td>0</td>\n",
       "      <td>1</td>\n",
       "      <td>0</td>\n",
       "      <td>0</td>\n",
       "      <td>1</td>\n",
       "    </tr>\n",
       "    <tr>\n",
       "      <th>12</th>\n",
       "      <td>49</td>\n",
       "      <td>130</td>\n",
       "      <td>266</td>\n",
       "      <td>171</td>\n",
       "      <td>0.6</td>\n",
       "      <td>1</td>\n",
       "      <td>1</td>\n",
       "      <td>1</td>\n",
       "      <td>0</td>\n",
       "      <td>0</td>\n",
       "      <td>...</td>\n",
       "      <td>0</td>\n",
       "      <td>0</td>\n",
       "      <td>0</td>\n",
       "      <td>0</td>\n",
       "      <td>0</td>\n",
       "      <td>0</td>\n",
       "      <td>1</td>\n",
       "      <td>0</td>\n",
       "      <td>0</td>\n",
       "      <td>1</td>\n",
       "    </tr>\n",
       "    <tr>\n",
       "      <th>197</th>\n",
       "      <td>67</td>\n",
       "      <td>125</td>\n",
       "      <td>254</td>\n",
       "      <td>163</td>\n",
       "      <td>0.2</td>\n",
       "      <td>0</td>\n",
       "      <td>1</td>\n",
       "      <td>0</td>\n",
       "      <td>0</td>\n",
       "      <td>1</td>\n",
       "      <td>...</td>\n",
       "      <td>0</td>\n",
       "      <td>0</td>\n",
       "      <td>1</td>\n",
       "      <td>0</td>\n",
       "      <td>0</td>\n",
       "      <td>0</td>\n",
       "      <td>0</td>\n",
       "      <td>1</td>\n",
       "      <td>1</td>\n",
       "      <td>0</td>\n",
       "    </tr>\n",
       "    <tr>\n",
       "      <th>169</th>\n",
       "      <td>53</td>\n",
       "      <td>140</td>\n",
       "      <td>203</td>\n",
       "      <td>155</td>\n",
       "      <td>3.1</td>\n",
       "      <td>0</td>\n",
       "      <td>1</td>\n",
       "      <td>0</td>\n",
       "      <td>1</td>\n",
       "      <td>1</td>\n",
       "      <td>...</td>\n",
       "      <td>0</td>\n",
       "      <td>0</td>\n",
       "      <td>0</td>\n",
       "      <td>0</td>\n",
       "      <td>0</td>\n",
       "      <td>0</td>\n",
       "      <td>0</td>\n",
       "      <td>1</td>\n",
       "      <td>0</td>\n",
       "      <td>0</td>\n",
       "    </tr>\n",
       "    <tr>\n",
       "      <th>84</th>\n",
       "      <td>42</td>\n",
       "      <td>102</td>\n",
       "      <td>265</td>\n",
       "      <td>122</td>\n",
       "      <td>0.6</td>\n",
       "      <td>1</td>\n",
       "      <td>0</td>\n",
       "      <td>1</td>\n",
       "      <td>0</td>\n",
       "      <td>1</td>\n",
       "      <td>...</td>\n",
       "      <td>0</td>\n",
       "      <td>0</td>\n",
       "      <td>0</td>\n",
       "      <td>0</td>\n",
       "      <td>0</td>\n",
       "      <td>0</td>\n",
       "      <td>1</td>\n",
       "      <td>0</td>\n",
       "      <td>1</td>\n",
       "      <td>0</td>\n",
       "    </tr>\n",
       "  </tbody>\n",
       "</table>\n",
       "<p>5 rows × 23 columns</p>\n",
       "</div>"
      ],
      "text/plain": [
       "     age  trestbps  chol  thalach  oldpeak  target  Male  fbs lessthan 120  \\\n",
       "14    58       150   283      162      1.0       1     0                 0   \n",
       "12    49       130   266      171      0.6       1     1                 1   \n",
       "197   67       125   254      163      0.2       0     1                 0   \n",
       "169   53       140   203      155      3.1       0     1                 0   \n",
       "84    42       102   265      122      0.6       1     0                 1   \n",
       "\n",
       "     exang Yes  No Heart Pain  ...  recg 2  ca 1  ca 2  ca 3  ca 4  thal 0  \\\n",
       "14           0              0  ...       0     0     0     0     0       0   \n",
       "12           0              0  ...       0     0     0     0     0       0   \n",
       "197          0              1  ...       0     0     1     0     0       0   \n",
       "169          1              1  ...       0     0     0     0     0       0   \n",
       "84           0              1  ...       0     0     0     0     0       0   \n",
       "\n",
       "     thal 2  thal 3  slope ST 1  slope ST 2  \n",
       "14        1       0           0           1  \n",
       "12        1       0           0           1  \n",
       "197       0       1           1           0  \n",
       "169       0       1           0           0  \n",
       "84        1       0           1           0  \n",
       "\n",
       "[5 rows x 23 columns]"
      ]
     },
     "execution_count": 20,
     "metadata": {},
     "output_type": "execute_result"
    }
   ],
   "source": [
    "merged7.head()"
   ]
  },
  {
   "cell_type": "code",
   "execution_count": 21,
   "metadata": {},
   "outputs": [
    {
     "data": {
      "image/png": "[encoded data removed]",
      "text/plain": [
       "<Figure size 432x288 with 1 Axes>"
      ]
     },
     "metadata": {},
     "output_type": "display_data"
    }
   ],
   "source": [
    "## Analysing age\n",
    "sns.set_style('darkgrid')\n",
    "sns.boxplot(df['age'])\n",
    "plt.show()"
   ]
  },
  {
   "cell_type": "code",
   "execution_count": 22,
   "metadata": {},
   "outputs": [
    {
     "data": {
      "image/png": "[encoded data removed]",
      "text/plain": [
       "<Figure size 432x288 with 1 Axes>"
      ]
     },
     "metadata": {},
     "output_type": "display_data"
    }
   ],
   "source": [
    "sns.boxplot(df['trestbps'])\n",
    "plt.show()"
   ]
  },
  {
   "cell_type": "code",
   "execution_count": 23,
   "metadata": {},
   "outputs": [],
   "source": [
    "df['trestbps'][df.trestbps > 170]  = df['trestbps'].median()            # handling outliers of trestbps"
   ]
  },
  {
   "cell_type": "code",
   "execution_count": 24,
   "metadata": {},
   "outputs": [
    {
     "data": {
      "image/png": "[encoded data removed]",
      "text/plain": [
       "<Figure size 432x288 with 1 Axes>"
      ]
     },
     "metadata": {},
     "output_type": "display_data"
    }
   ],
   "source": [
    "sns.boxplot(df['chol'])\n",
    "plt.show()"
   ]
  },
  {
   "cell_type": "code",
   "execution_count": 25,
   "metadata": {},
   "outputs": [],
   "source": [
    "df['chol'][df.chol > 350]  = df['chol'].median()                  # handling outliers of chol feature"
   ]
  },
  {
   "cell_type": "code",
   "execution_count": 26,
   "metadata": {},
   "outputs": [
    {
     "data": {
      "image/png": "[encoded data removed]",
      "text/plain": [
       "<Figure size 432x288 with 1 Axes>"
      ]
     },
     "metadata": {},
     "output_type": "display_data"
    }
   ],
   "source": [
    "sns.boxplot(df['thalach'])\n",
    "plt.show()"
   ]
  },
  {
   "cell_type": "code",
   "execution_count": null,
   "metadata": {},
   "outputs": [],
   "source": []
  },
  {
   "cell_type": "code",
   "execution_count": 27,
   "metadata": {},
   "outputs": [
    {
     "data": {
      "image/png": "[encoded data removed]",
      "text/plain": [
       "<Figure size 432x288 with 1 Axes>"
      ]
     },
     "metadata": {},
     "output_type": "display_data"
    }
   ],
   "source": [
    "sns.boxplot(df['oldpeak'])\n",
    "plt.show()"
   ]
  },
  {
   "cell_type": "code",
   "execution_count": 28,
   "metadata": {},
   "outputs": [],
   "source": [
    "df['oldpeak'][df['oldpeak'] >4] = df['oldpeak'].median()          # handling the outliers of oldpeak feature "
   ]
  },
  {
   "cell_type": "code",
   "execution_count": 29,
   "metadata": {},
   "outputs": [
    {
     "data": {
      "text/html": [
       "<div>\n",
       "<style scoped>\n",
       "    .dataframe tbody tr th:only-of-type {\n",
       "        vertical-align: middle;\n",
       "    }\n",
       "\n",
       "    .dataframe tbody tr th {\n",
       "        vertical-align: top;\n",
       "    }\n",
       "\n",
       "    .dataframe thead th {\n",
       "        text-align: right;\n",
       "    }\n",
       "</style>\n",
       "<table border=\"1\" class=\"dataframe\">\n",
       "  <thead>\n",
       "    <tr style=\"text-align: right;\">\n",
       "      <th></th>\n",
       "      <th>age</th>\n",
       "      <th>trestbps</th>\n",
       "      <th>chol</th>\n",
       "      <th>thalach</th>\n",
       "      <th>oldpeak</th>\n",
       "    </tr>\n",
       "  </thead>\n",
       "  <tbody>\n",
       "    <tr>\n",
       "      <th>0</th>\n",
       "      <td>0.571429</td>\n",
       "      <td>0.714286</td>\n",
       "      <td>0.733645</td>\n",
       "      <td>0.698113</td>\n",
       "      <td>0.250</td>\n",
       "    </tr>\n",
       "    <tr>\n",
       "      <th>1</th>\n",
       "      <td>0.357143</td>\n",
       "      <td>0.428571</td>\n",
       "      <td>0.654206</td>\n",
       "      <td>0.783019</td>\n",
       "      <td>0.150</td>\n",
       "    </tr>\n",
       "    <tr>\n",
       "      <th>2</th>\n",
       "      <td>0.785714</td>\n",
       "      <td>0.357143</td>\n",
       "      <td>0.598131</td>\n",
       "      <td>0.707547</td>\n",
       "      <td>0.050</td>\n",
       "    </tr>\n",
       "    <tr>\n",
       "      <th>3</th>\n",
       "      <td>0.452381</td>\n",
       "      <td>0.571429</td>\n",
       "      <td>0.359813</td>\n",
       "      <td>0.632075</td>\n",
       "      <td>0.775</td>\n",
       "    </tr>\n",
       "    <tr>\n",
       "      <th>4</th>\n",
       "      <td>0.190476</td>\n",
       "      <td>0.028571</td>\n",
       "      <td>0.649533</td>\n",
       "      <td>0.320755</td>\n",
       "      <td>0.150</td>\n",
       "    </tr>\n",
       "    <tr>\n",
       "      <th>...</th>\n",
       "      <td>...</td>\n",
       "      <td>...</td>\n",
       "      <td>...</td>\n",
       "      <td>...</td>\n",
       "      <td>...</td>\n",
       "    </tr>\n",
       "    <tr>\n",
       "      <th>207</th>\n",
       "      <td>0.500000</td>\n",
       "      <td>0.857143</td>\n",
       "      <td>0.761682</td>\n",
       "      <td>0.537736</td>\n",
       "      <td>0.200</td>\n",
       "    </tr>\n",
       "    <tr>\n",
       "      <th>208</th>\n",
       "      <td>0.833333</td>\n",
       "      <td>0.571429</td>\n",
       "      <td>0.598131</td>\n",
       "      <td>0.547170</td>\n",
       "      <td>0.500</td>\n",
       "    </tr>\n",
       "    <tr>\n",
       "      <th>209</th>\n",
       "      <td>0.476190</td>\n",
       "      <td>0.357143</td>\n",
       "      <td>0.686916</td>\n",
       "      <td>0.603774</td>\n",
       "      <td>0.125</td>\n",
       "    </tr>\n",
       "    <tr>\n",
       "      <th>210</th>\n",
       "      <td>0.642857</td>\n",
       "      <td>0.485714</td>\n",
       "      <td>0.504673</td>\n",
       "      <td>0.537736</td>\n",
       "      <td>0.650</td>\n",
       "    </tr>\n",
       "    <tr>\n",
       "      <th>211</th>\n",
       "      <td>0.619048</td>\n",
       "      <td>0.357143</td>\n",
       "      <td>0.616822</td>\n",
       "      <td>0.500000</td>\n",
       "      <td>0.700</td>\n",
       "    </tr>\n",
       "  </tbody>\n",
       "</table>\n",
       "<p>212 rows × 5 columns</p>\n",
       "</div>"
      ],
      "text/plain": [
       "          age  trestbps      chol   thalach  oldpeak\n",
       "0    0.571429  0.714286  0.733645  0.698113    0.250\n",
       "1    0.357143  0.428571  0.654206  0.783019    0.150\n",
       "2    0.785714  0.357143  0.598131  0.707547    0.050\n",
       "3    0.452381  0.571429  0.359813  0.632075    0.775\n",
       "4    0.190476  0.028571  0.649533  0.320755    0.150\n",
       "..        ...       ...       ...       ...      ...\n",
       "207  0.500000  0.857143  0.761682  0.537736    0.200\n",
       "208  0.833333  0.571429  0.598131  0.547170    0.500\n",
       "209  0.476190  0.357143  0.686916  0.603774    0.125\n",
       "210  0.642857  0.485714  0.504673  0.537736    0.650\n",
       "211  0.619048  0.357143  0.616822  0.500000    0.700\n",
       "\n",
       "[212 rows x 5 columns]"
      ]
     },
     "execution_count": 29,
     "metadata": {},
     "output_type": "execute_result"
    }
   ],
   "source": [
    "df_num = df[['age','trestbps', 'chol','thalach', 'oldpeak','target']]\n",
    "\n",
    "# applying scaling techinique\n",
    "from sklearn.preprocessing import MinMaxScaler\n",
    "g = df_num.drop('target',axis = 1)\n",
    "Scaler = MinMaxScaler()\n",
    "Scaler.fit(g)\n",
    "m = Scaler.transform(g)\n",
    "ne = pd.DataFrame(m, columns = g.columns)\n",
    "ne"
   ]
  },
  {
   "cell_type": "code",
   "execution_count": 30,
   "metadata": {},
   "outputs": [],
   "source": [
    "# merging scaled data with encoded dataframe \n",
    "encoding_df= pd.DataFrame(merged7.iloc[:,5:])\n",
    "encoding_df.index = list(range(0,212))\n",
    "final_train = pd.concat([ne,encoding_df], axis = 1)"
   ]
  },
  {
   "cell_type": "code",
   "execution_count": 31,
   "metadata": {},
   "outputs": [
    {
     "data": {
      "text/plain": [
       "Index(['age', 'trestbps', 'chol', 'thalach', 'oldpeak', 'target', 'Male',\n",
       "       'fbs lessthan 120', 'exang Yes', 'No Heart Pain', 'Little Heart Pain',\n",
       "       'Heart Pain', 'recg 1', 'recg 2', 'ca 1', 'ca 2', 'ca 3', 'ca 4',\n",
       "       'thal 0', 'thal 2', 'thal 3', 'slope ST 1', 'slope ST 2'],\n",
       "      dtype='object')"
      ]
     },
     "execution_count": 31,
     "metadata": {},
     "output_type": "execute_result"
    }
   ],
   "source": [
    "final_train.columns"
   ]
  },
  {
   "cell_type": "markdown",
   "metadata": {},
   "source": [
    "# <font color = 'violet'> Model Building "
   ]
  },
  {
   "cell_type": "code",
   "execution_count": 32,
   "metadata": {},
   "outputs": [],
   "source": [
    "# loading models from sklearn \n",
    "from sklearn.ensemble import RandomForestClassifier\n",
    "from sklearn.ensemble import ExtraTreesClassifier\n",
    "from sklearn.linear_model import LogisticRegression\n",
    "from sklearn.ensemble import GradientBoostingClassifier\n",
    "from sklearn.ensemble import BaggingClassifier\n",
    "from sklearn.neighbors import KNeighborsClassifier\n",
    "\n",
    "\n",
    "# for the model valuation we need crossvalidation score \n",
    "from sklearn.model_selection import cross_val_score"
   ]
  },
  {
   "cell_type": "markdown",
   "metadata": {},
   "source": [
    "###  <font color = 'darkblue'> Uploading and preparing testing data set "
   ]
  },
  {
   "cell_type": "code",
   "execution_count": 33,
   "metadata": {},
   "outputs": [],
   "source": [
    "test = pd.read_csv('heart_test')               # loading dataset"
   ]
  },
  {
   "cell_type": "code",
   "execution_count": 34,
   "metadata": {},
   "outputs": [],
   "source": [
    "categories = {0: 'No Heart Pain',1: 'Little Heart Pain',2: 'Heart Pain', 3: 'HighPain'}\n",
    "test['cp'] = test['cp'].astype('category')\n",
    "test['cp'] = test['cp'].cat.rename_categories(categories)\n",
    "\n",
    "sex = {1: 'Male',0: 'Female'}\n",
    "test['sex'] = test['sex'].astype('category')\n",
    "test['sex'] = test['sex'].cat.rename_categories(sex)\n",
    "\n",
    "bloodSugar = {1:'greaterthan or 120',0:'fbs lessthan 120'}\n",
    "test['fbs'] = test['fbs'].astype('category')\n",
    "test['fbs'] = test['fbs'].cat.rename_categories(bloodSugar)\n",
    "\n",
    "recg = {0: 'recg 0',1:'recg 1',2:'recg 2'}\n",
    "test['restecg'] = test['restecg'].astype('category')\n",
    "test['restecg'] = test['restecg'].cat.rename_categories(recg)\n",
    "\n",
    "exang = {1:'exang Yes',0:'No'}\n",
    "test['exang'] = test['exang'].astype('category')\n",
    "test['exang'] = test['exang'].cat.rename_categories(exang)\n",
    "\n",
    "ca = {0:'ca 0', 1: 'ca 1', 2: 'ca 2', 3: 'ca 3',4:'ca 4'}\n",
    "test['ca'] = test['ca'].astype('category')\n",
    "test['ca'] = test['ca'].cat.rename_categories(ca)\n",
    "\n",
    "\n",
    "thal = {0:'thal 0', 1: 'thal 1',2:'thal 2',3: 'thal 3'}\n",
    "test['thal'] = test['thal'].astype('category')\n",
    "test['thal'] = test['thal'].cat.rename_categories(thal)\n",
    "\n",
    "slope = {0: 'slope ST 0', 1: 'slope ST 1', 2: 'slope ST 2'}\n",
    "test['slope'] = test['slope'].astype('category')\n",
    "test['slope'] = test['slope'].cat.rename_categories(slope)\n",
    "\n",
    "\n",
    "# getting dummy variables for the features \n",
    "sex_dummy = pd.get_dummies(test.sex)\n",
    "merged0 = pd.concat([test,sex_dummy],axis = 'columns')\n",
    "merged0.drop(['sex', 'Female'],axis = 1,inplace = True)\n",
    "\n",
    "fbs_dummy = pd.get_dummies(test.fbs)\n",
    "merged1 = pd.concat([merged0,fbs_dummy],axis = 'columns')\n",
    "merged1.drop(['fbs', 'greaterthan or 120'],axis = 1,inplace = True)\n",
    "\n",
    "exang_dummy = pd.get_dummies(test.exang)\n",
    "merged2 = pd.concat([merged1,exang_dummy],axis = 'columns')\n",
    "merged2.drop(['exang', 'No'],axis = 1,inplace = True)\n",
    "\n",
    "cp_dummy = pd.get_dummies(test.cp)\n",
    "merged3 = pd.concat([merged2,cp_dummy],axis = 'columns')\n",
    "merged3.drop(['cp', 'HighPain'],axis = 1,inplace = True)\n",
    "\n",
    "restecg_dummy = pd.get_dummies(test.restecg)\n",
    "merged4 = pd.concat([merged3,restecg_dummy], axis = 'columns')\n",
    "merged4.drop(['restecg', 'recg 0'], axis = 1,inplace = True )\n",
    "\n",
    "ca_dummy = pd.get_dummies(test.ca)\n",
    "merged5 = pd.concat([merged4,ca_dummy], axis = 'columns')\n",
    "merged5.drop(['ca', 'ca 0'], axis = 1,inplace = True )\n",
    "\n",
    "thal_dummy = pd.get_dummies(test.thal)\n",
    "merged6 = pd.concat([merged5,thal_dummy], axis = 'columns')\n",
    "merged6.drop(['thal', 'thal 1'], axis = 1,inplace = True )\n",
    "\n",
    "slope_dummy = pd.get_dummies(test.slope)\n",
    "merged7 = pd.concat([merged6,slope_dummy], axis = 'columns')\n",
    "merged7.drop(['slope', 'slope ST 0'], axis = 1,inplace = True )\n",
    "\n",
    "#---------------------------------------------------------------------------\n",
    "\n",
    "# merging encoded and normalised together\n",
    "\n",
    "dftest_num = test[['age','trestbps', 'chol','thalach', 'oldpeak']]\n",
    "\n",
    "# applying scaling techinique\n",
    "from sklearn.preprocessing import MinMaxScaler\n",
    "Scaler = MinMaxScaler()\n",
    "Scaler.fit(dftest_num)\n",
    "m = Scaler.transform(dftest_num)\n",
    "me = pd.DataFrame(m, columns = dftest_num.columns)\n",
    "\n",
    "\n",
    "# merging scaled data with encoded dataframe \n",
    "encoding_df_test= pd.DataFrame(merged7.iloc[:,5:])\n",
    "encoding_df_test.index = list(range(0,91))\n",
    "final_test = pd.concat([me,encoding_df_test], axis = 1)"
   ]
  },
  {
   "cell_type": "markdown",
   "metadata": {},
   "source": [
    "## <font color = 'darkblue'>------------------------   Model1: Training    ------------------------------"
   ]
  },
  {
   "cell_type": "code",
   "execution_count": 35,
   "metadata": {},
   "outputs": [
    {
     "data": {
      "text/plain": [
       "ExtraTreesClassifier()"
      ]
     },
     "execution_count": 35,
     "metadata": {},
     "output_type": "execute_result"
    }
   ],
   "source": [
    "# training accuracy \n",
    "\n",
    "f = ['target','trestbps']\n",
    "X = final_train.drop(f,axis = 1)\n",
    "y = final_train['target']\n",
    "\n",
    "X_train,X_test,y_train,y_test = train_test_split(X,y, test_size=0.2, random_state=3)\n",
    "clf1 = ExtraTreesClassifier()\n",
    "clf1.fit(X_train,y_train)"
   ]
  },
  {
   "cell_type": "markdown",
   "metadata": {},
   "source": [
    "## <font color = 'green'> Model1 Evaluation"
   ]
  },
  {
   "cell_type": "markdown",
   "metadata": {},
   "source": [
    "###   Classification model evaluation metrics\n",
    "1. Accuracy\n",
    "2. Area under ROC curve\n",
    "3. Confusion matrix\n",
    "4. Classification report"
   ]
  },
  {
   "cell_type": "markdown",
   "metadata": {},
   "source": [
    "#### Accuracy"
   ]
  },
  {
   "cell_type": "code",
   "execution_count": 36,
   "metadata": {},
   "outputs": [
    {
     "name": "stdout",
     "output_type": "stream",
     "text": [
      "training score  =  0.813953488372093\n",
      "mean_crossvalidation (accuracy) =  0.8208194905869325\n"
     ]
    }
   ],
   "source": [
    "# Accuracy in terms of cross validation score\n",
    "print('training score  = ',clf1.score(X_test,y_test))\n",
    "\n",
    "crossval_score = cross_val_score(clf1,X,y,cv = 5)\n",
    "\n",
    "from sklearn.metrics import confusion_matrix\n",
    "y_preds = clf1.predict(X_test)\n",
    "# confusion_matrix(y_test,y_preds)\n",
    "print('mean_crossvalidation (accuracy) = ', crossval_score.mean())"
   ]
  },
  {
   "cell_type": "markdown",
   "metadata": {},
   "source": [
    "#### Area under the receiver operating characteristic curve (AUC/ROC)\n",
    "    1.Area under curve (AUC)\n",
    "    2.ROC Curve\n",
    "   Roc curves are a comparison of a models true positive rate (tpr) versus a models false positive (fpr)\n",
    "   \n",
    "  * True positive = model predicts 1 when truth is 1\n",
    "  * False positive = model predicts 1 when truth is 0\n",
    "  * True negative = model predicts 0 when truth is 0 \n",
    "  * False negative = model predicts 0 when truth is 1"
   ]
  },
  {
   "cell_type": "code",
   "execution_count": 37,
   "metadata": {},
   "outputs": [
    {
     "data": {
      "text/plain": [
       "(array([[0.16, 0.84],\n",
       "        [0.15, 0.85],\n",
       "        [0.06, 0.94],\n",
       "        [0.11, 0.89],\n",
       "        [0.17, 0.83],\n",
       "        [0.91, 0.09],\n",
       "        [0.05, 0.95],\n",
       "        [0.86, 0.14],\n",
       "        [0.62, 0.38],\n",
       "        [0.03, 0.97]]),\n",
       " 43)"
      ]
     },
     "execution_count": 37,
     "metadata": {},
     "output_type": "execute_result"
    }
   ],
   "source": [
    "from sklearn.metrics import roc_curve\n",
    "# make predictions with probaiblities\n",
    "y_probs = clf1.predict_proba(X_test)          # getting the probabilities of prediction \n",
    "\n",
    "y_probs_positive = y_probs[:,1]                # storing probability of getting one ( second columns) \n",
    "y_probs[:10],len(y_probs) "
   ]
  },
  {
   "cell_type": "code",
   "execution_count": 38,
   "metadata": {},
   "outputs": [],
   "source": [
    "# calculate fpr,tpr and thresholds\n",
    "fpr,tpr,thresholds = roc_curve(y_test,y_probs_positive)"
   ]
  },
  {
   "cell_type": "code",
   "execution_count": 39,
   "metadata": {},
   "outputs": [
    {
     "data": {
      "image/png": "[encoded data removed]",
      "text/plain": [
       "<Figure size 432x288 with 1 Axes>"
      ]
     },
     "metadata": {},
     "output_type": "display_data"
    }
   ],
   "source": [
    "# creating a function for plotting ROC curves \n",
    "import matplotlib.pyplot as plt\n",
    "def plot_roc_curve(fpr,tpr):\n",
    "    '''\n",
    "    plots a ROC curve given the false positive rates (fpr)\n",
    "    and true positive rate (tpr) of a model\n",
    "    '''\n",
    "    # plot roc curve \n",
    "    plt.plot(fpr,tpr, color = 'orange' , label = 'ROC')\n",
    "    # Plot line with no predictive power (baseline)\n",
    "    plt.plot ([0,1],[0,1], color = 'darkblue', linestyle = '--' , label = 'Guessing')\n",
    "    plt.xlabel('False positive rate (fpr)')\n",
    "    plt.ylabel('True positive rate (tpr)')\n",
    "    plt.title ('Receiver Operating Characteristic (ROC) Curve -- Model Testing')\n",
    "    plt.legend()\n",
    "    plt.show()\n",
    "plot_roc_curve(fpr,tpr)"
   ]
  },
  {
   "cell_type": "markdown",
   "metadata": {},
   "source": [
    "ROC curves and AUC metrics are evaluation metrics for binary classification models (a model which predicts one thing or another, such as heart disease or not).\n",
    "\n",
    "The ROC curve compares the true positive rate (tpr) versus the false positive rate (fpr) at different classification thresholds.\n",
    "\n",
    "The AUC metric tells you how well your model is at choosing between classes (for example, how well it is at deciding whether someone has heart disease or not). A perfect model will get an AUC score of 1.\n",
    "\n",
    "For more information on these metrics, bookmark the following resources and refer to them when you need:\n",
    "\n",
    "ROC and AUC, Clearly Explained! by StatQuest\n",
    "\n",
    "ROC documentation in Scikit-Learn (contains code examples)\n",
    "\n",
    "How the ROC curve and AUC are calculated by Google's Machine Learning team\n"
   ]
  },
  {
   "cell_type": "code",
   "execution_count": 40,
   "metadata": {},
   "outputs": [
    {
     "data": {
      "text/plain": [
       "0.8834841628959276"
      ]
     },
     "execution_count": 40,
     "metadata": {},
     "output_type": "execute_result"
    }
   ],
   "source": [
    "from sklearn.metrics import roc_auc_score\n",
    "roc_auc_score(y_test,y_probs_positive)"
   ]
  },
  {
   "cell_type": "markdown",
   "metadata": {},
   "source": [
    "#### Confusion Matrix\n",
    "A confusion matrix is a quick way to compare the labels a model predicts and the actial labels it was supposed to predict.\n",
    "In essence, giving you an idea of where the model is getting confused."
   ]
  },
  {
   "cell_type": "code",
   "execution_count": 41,
   "metadata": {},
   "outputs": [
    {
     "data": {
      "image/png": "[encoded data removed]",
      "text/plain": [
       "<Figure size 216x216 with 1 Axes>"
      ]
     },
     "metadata": {},
     "output_type": "display_data"
    }
   ],
   "source": [
    "conf_mat = confusion_matrix(y_test,y_preds)\n",
    "def plot_conf_mat(conf_mat):\n",
    "    fig,ax = plt.subplots(figsize = (3,3))\n",
    "    ax = sns.heatmap(conf_mat,\n",
    "                    annot = True, # annote the boxes with conf_mat info\n",
    "                    cbar = False)\n",
    "    plt.xlabel('True label')\n",
    "    plt.ylabel ('Predicted label')\n",
    "\n",
    "plot_conf_mat(conf_mat)"
   ]
  },
  {
   "cell_type": "code",
   "execution_count": 42,
   "metadata": {},
   "outputs": [
    {
     "name": "stdout",
     "output_type": "stream",
     "text": [
      "           Model Training Summary\n",
      "Accuracy : 81.40%\n",
      "Precision: 0.8214285714285714\n",
      "Recall:0.8846153846153846\n",
      "F1: 0.8518518518518519\n"
     ]
    }
   ],
   "source": [
    "from sklearn.metrics import accuracy_score,precision_score,recall_score,f1_score\n",
    "print('           Model Training Summary')\n",
    "\n",
    "print(f'Accuracy : {accuracy_score(y_test,y_preds)*100:.2f}%')\n",
    "print(f'Precision: {precision_score(y_test,y_preds)}')\n",
    "print(f'Recall:{recall_score(y_test,y_preds)}')\n",
    "print(f'F1: {f1_score(y_test,y_preds)}')\n"
   ]
  },
  {
   "cell_type": "code",
   "execution_count": 43,
   "metadata": {},
   "outputs": [
    {
     "name": "stdout",
     "output_type": "stream",
     "text": [
      "        Classication Report- ExtraTreeClassifier\n",
      "--------------------------------------------------\n",
      "              precision    recall  f1-score   support\n",
      "\n",
      "           0       0.80      0.71      0.75        17\n",
      "           1       0.82      0.88      0.85        26\n",
      "\n",
      "    accuracy                           0.81        43\n",
      "   macro avg       0.81      0.80      0.80        43\n",
      "weighted avg       0.81      0.81      0.81        43\n",
      "\n"
     ]
    }
   ],
   "source": [
    "# printing the classification report\n",
    "from sklearn.metrics import classification_report\n",
    "print('        Classication Report- ExtraTreeClassifier')\n",
    "print('--------------------------------------------------')\n",
    "\n",
    "print(classification_report(y_test,y_preds))"
   ]
  },
  {
   "cell_type": "markdown",
   "metadata": {},
   "source": [
    "## <font color = 'darkblue'>------------------------   Model2: Training    ------------------------------"
   ]
  },
  {
   "cell_type": "code",
   "execution_count": 44,
   "metadata": {},
   "outputs": [],
   "source": [
    "f = ['target','trestbps','target', 'Male']\n",
    "X = final_train.drop(f,axis = 1)\n",
    "y = final_train['target']\n",
    "\n",
    "X_train,X_test,y_train,y_test = train_test_split(X,y, test_size=0.2, random_state=3)\n",
    "clf =LogisticRegression()\n",
    "clf.fit(X_train,y_train)\n",
    "crossval_score = cross_val_score(clf,X,y,cv = 5)"
   ]
  },
  {
   "cell_type": "markdown",
   "metadata": {},
   "source": [
    "#### Accuracy"
   ]
  },
  {
   "cell_type": "code",
   "execution_count": 45,
   "metadata": {},
   "outputs": [
    {
     "name": "stdout",
     "output_type": "stream",
     "text": [
      "training score  =  0.8372093023255814\n",
      "mean_crossvalidation (accuracy) =  0.8490586932447396\n"
     ]
    }
   ],
   "source": [
    "# Accuracy in terms of cross validation score\n",
    "print('training score  = ',clf.score(X_test,y_test))\n",
    "\n",
    "crossval_score = cross_val_score(clf,X,y,cv = 5)\n",
    "\n",
    "from sklearn.metrics import confusion_matrix\n",
    "y_preds = clf.predict(X_test)\n",
    "# confusion_matrix(y_test,y_preds)\n",
    "print('mean_crossvalidation (accuracy) = ', crossval_score.mean())"
   ]
  },
  {
   "cell_type": "markdown",
   "metadata": {},
   "source": [
    "#### ROC Curve"
   ]
  },
  {
   "cell_type": "code",
   "execution_count": 46,
   "metadata": {},
   "outputs": [
    {
     "data": {
      "text/plain": [
       "(array([[0.21669288, 0.78330712],\n",
       "        [0.05764078, 0.94235922],\n",
       "        [0.20796362, 0.79203638],\n",
       "        [0.03042045, 0.96957955],\n",
       "        [0.20781531, 0.79218469],\n",
       "        [0.89245641, 0.10754359],\n",
       "        [0.06042744, 0.93957256],\n",
       "        [0.84750162, 0.15249838],\n",
       "        [0.8127647 , 0.1872353 ],\n",
       "        [0.0501842 , 0.9498158 ]]),\n",
       " 43)"
      ]
     },
     "execution_count": 46,
     "metadata": {},
     "output_type": "execute_result"
    }
   ],
   "source": [
    "from sklearn.metrics import roc_curve\n",
    "# make predictions with probaiblities\n",
    "y_probs = clf.predict_proba(X_test)          # getting the probabilities of prediction \n",
    "\n",
    "y_probs_positive = y_probs[:,1]                # storing probability of getting one ( second columns) \n",
    "y_probs[:10],len(y_probs) "
   ]
  },
  {
   "cell_type": "code",
   "execution_count": 47,
   "metadata": {},
   "outputs": [
    {
     "data": {
      "image/png": "[encoded data removed]",
      "text/plain": [
       "<Figure size 432x288 with 1 Axes>"
      ]
     },
     "metadata": {},
     "output_type": "display_data"
    }
   ],
   "source": [
    "# calculate fpr,tpr and thresholds\n",
    "fpr,tpr,thresholds = roc_curve(y_test,y_probs_positive)\n",
    "plot_roc_curve(fpr,tpr)"
   ]
  },
  {
   "cell_type": "code",
   "execution_count": 48,
   "metadata": {},
   "outputs": [
    {
     "data": {
      "text/plain": [
       "0.830316742081448"
      ]
     },
     "execution_count": 48,
     "metadata": {},
     "output_type": "execute_result"
    }
   ],
   "source": [
    "from sklearn.metrics import roc_auc_score\n",
    "roc_auc_score(y_test,y_probs_positive)"
   ]
  },
  {
   "cell_type": "markdown",
   "metadata": {},
   "source": [
    "#### Confusion Matrix"
   ]
  },
  {
   "cell_type": "code",
   "execution_count": 49,
   "metadata": {},
   "outputs": [
    {
     "data": {
      "image/png": "[encoded data removed]",
      "text/plain": [
       "<Figure size 216x216 with 1 Axes>"
      ]
     },
     "metadata": {},
     "output_type": "display_data"
    }
   ],
   "source": [
    "conf_mat = confusion_matrix(y_test,y_preds)\n",
    "plot_conf_mat(conf_mat)"
   ]
  },
  {
   "cell_type": "markdown",
   "metadata": {},
   "source": [
    "#### Classification Reports"
   ]
  },
  {
   "cell_type": "code",
   "execution_count": 50,
   "metadata": {},
   "outputs": [
    {
     "name": "stdout",
     "output_type": "stream",
     "text": [
      "Accuracy : 83.72%\n",
      "Precision: 0.7878787878787878\n",
      "Recall:1.0\n",
      "F1: 0.8813559322033898\n"
     ]
    }
   ],
   "source": [
    "from sklearn.metrics import accuracy_score,precision_score,recall_score,f1_score\n",
    "print(f'Accuracy : {accuracy_score(y_test,y_preds)*100:.2f}%')\n",
    "print(f'Precision: {precision_score(y_test,y_preds)}')\n",
    "print(f'Recall:{recall_score(y_test,y_preds)}')\n",
    "print(f'F1: {f1_score(y_test,y_preds)}')"
   ]
  },
  {
   "cell_type": "code",
   "execution_count": 51,
   "metadata": {},
   "outputs": [
    {
     "name": "stdout",
     "output_type": "stream",
     "text": [
      "        Classication Report- LogisticRegression\n",
      "-------------------------------------------------------\n",
      "              precision    recall  f1-score   support\n",
      "\n",
      "           0       1.00      0.59      0.74        17\n",
      "           1       0.79      1.00      0.88        26\n",
      "\n",
      "    accuracy                           0.84        43\n",
      "   macro avg       0.89      0.79      0.81        43\n",
      "weighted avg       0.87      0.84      0.83        43\n",
      "\n"
     ]
    }
   ],
   "source": [
    "# printing the classification report\n",
    "from sklearn.metrics import classification_report\n",
    "print('        Classication Report- LogisticRegression')\n",
    "print('-------------------------------------------------------')\n",
    "print(classification_report(y_test,y_preds))"
   ]
  },
  {
   "cell_type": "markdown",
   "metadata": {},
   "source": [
    "## <font color = 'darkblue'> Testing the selected model \n",
    "Since the second model resulted in higher accuracy than the first , we select second model as final. \n",
    "Next step is to test this final model, with the test data"
   ]
  },
  {
   "cell_type": "code",
   "execution_count": 52,
   "metadata": {},
   "outputs": [
    {
     "name": "stdout",
     "output_type": "stream",
     "text": [
      "testing score =  0.9230769230769231\n"
     ]
    },
    {
     "data": {
      "text/plain": [
       "array([[38,  4],\n",
       "       [ 3, 46]], dtype=int64)"
      ]
     },
     "execution_count": 52,
     "metadata": {},
     "output_type": "execute_result"
    }
   ],
   "source": [
    "X = final_test.drop(f,axis = 1)\n",
    "y = final_test['target']\n",
    "clf.fit(X,y)\n",
    "print('testing score = ',clf.score(X,y))\n",
    "from sklearn.metrics import confusion_matrix\n",
    "y_preds = clf.predict(X)\n",
    "confusion_matrix(y,y_preds)"
   ]
  },
  {
   "cell_type": "code",
   "execution_count": 53,
   "metadata": {},
   "outputs": [
    {
     "name": "stdout",
     "output_type": "stream",
     "text": [
      "Model Testing Confusion Matrix\n"
     ]
    },
    {
     "data": {
      "image/png": "[encoded data removed]",
      "text/plain": [
       "<Figure size 216x216 with 1 Axes>"
      ]
     },
     "metadata": {},
     "output_type": "display_data"
    }
   ],
   "source": [
    "# plotiing confusion matrix \n",
    "conf_mat = confusion_matrix(y,y_preds)\n",
    "print( 'Model Testing Confusion Matrix')\n",
    "plot_conf_mat(conf_mat)"
   ]
  },
  {
   "cell_type": "code",
   "execution_count": 54,
   "metadata": {},
   "outputs": [
    {
     "name": "stdout",
     "output_type": "stream",
     "text": [
      "Accuracy : 92.31%\n",
      "Precision: 0.92\n",
      "Recall:0.9387755102040817\n",
      "F1: 0.9292929292929293\n"
     ]
    }
   ],
   "source": [
    "# classification report for the testing \n",
    "from sklearn.metrics import accuracy_score,precision_score,recall_score,f1_score\n",
    "print(f'Accuracy : {accuracy_score(y,y_preds)*100:.2f}%')\n",
    "print(f'Precision: {precision_score(y,y_preds)}')\n",
    "print(f'Recall:{recall_score(y,y_preds)}')\n",
    "print(f'F1: {f1_score(y,y_preds)}')"
   ]
  },
  {
   "cell_type": "code",
   "execution_count": 55,
   "metadata": {},
   "outputs": [
    {
     "name": "stdout",
     "output_type": "stream",
     "text": [
      "     Classification Report - Model Testing ( LogisticRegression)\n",
      "----------------------------------------------------------------\n",
      "              precision    recall  f1-score   support\n",
      "\n",
      "           0       0.93      0.90      0.92        42\n",
      "           1       0.92      0.94      0.93        49\n",
      "\n",
      "    accuracy                           0.92        91\n",
      "   macro avg       0.92      0.92      0.92        91\n",
      "weighted avg       0.92      0.92      0.92        91\n",
      "\n"
     ]
    }
   ],
   "source": [
    "# printing the classification report \n",
    "print('     Classification Report - Model Testing ( LogisticRegression)')\n",
    "print('----------------------------------------------------------------')\n",
    "print(classification_report(y,y_preds))"
   ]
  },
  {
   "cell_type": "code",
   "execution_count": 56,
   "metadata": {},
   "outputs": [
    {
     "data": {
      "image/png": "[encoded data removed]",
      "text/plain": [
       "<Figure size 432x288 with 1 Axes>"
      ]
     },
     "metadata": {},
     "output_type": "display_data"
    },
    {
     "name": "stdout",
     "output_type": "stream",
     "text": [
      "roc_score =  0.9742468415937803\n"
     ]
    }
   ],
   "source": [
    "y_probs = clf.predict_proba(X)          # getting the probabilities of prediction \n",
    "y_probs_positive = y_probs[:,1]\n",
    "# calculate fpr,tpr and thresholds\n",
    "fpr,tpr,thresholds = roc_curve(y,y_probs_positive)\n",
    "plot_roc_curve(fpr,tpr)\n",
    "print('roc_score = ',roc_auc_score(y,y_probs_positive))"
   ]
  },
  {
   "cell_type": "markdown",
   "metadata": {},
   "source": [
    "## <font color = 'darkblue'> Conclusion"
   ]
  },
  {
   "cell_type": "markdown",
   "metadata": {},
   "source": [
    "We had one classification problem. The work started with making train and test data. \n",
    "\n",
    "Through Exploratory data analysis the relationship among the variables were analysed. For data scaling we used Minmax scalar. \n",
    "we tried two algorithms for the model building (ExtraTreeClassifier and LogisticRegression). Among them LogisticRegression yielded high accuracy. So, we selected LogisticRegression and made the predictions.\n",
    "\n",
    "On testing, Model showed 92.3 % of accuracy.   "
   ]
  }
 ],
 "metadata": {
  "kernelspec": {
   "display_name": "Python 3",
   "language": "python",
   "name": "python3"
  },
  "language_info": {
   "codemirror_mode": {
    "name": "ipython",
    "version": 3
   },
   "file_extension": ".py",
   "mimetype": "text/x-python",
   "name": "python",
   "nbconvert_exporter": "python",
   "pygments_lexer": "ipython3",
   "version": "3.8.5"
  }
 },
 "nbformat": 4,
 "nbformat_minor": 4
}
